{
 "cells": [
  {
   "cell_type": "code",
   "execution_count": 10,
   "id": "43ec1384",
   "metadata": {},
   "outputs": [
    {
     "name": "stdout",
     "output_type": "stream",
     "text": [
      "Twinkle, twinkle little star,\n",
      "          How I wonder what you are!\n",
      "               Up above the world so high,\n",
      "               Like a diamond in the sky.\n",
      "Twinkle, twinkle little star,\n",
      "         How I wonder what you are! \n"
     ]
    }
   ],
   "source": [
    "#       question 1\n",
    "\n",
    "x = \"Twinkle, twinkle little star,\"\n",
    "print(x);\n",
    "y = \"          How I wonder what you are!\"\n",
    "print(y);\n",
    "z = \"               Up above the world so high,\"\n",
    "print(z);\n",
    "a = \"               Like a diamond in the sky.\"\n",
    "print(a);\n",
    "b = \"Twinkle, twinkle little star,\"\n",
    "print(b);\n",
    "c = \"         How I wonder what you are! \"\n",
    "print(c);\n"
   ]
  },
  {
   "cell_type": "code",
   "execution_count": 9,
   "id": "76a2d3dd",
   "metadata": {},
   "outputs": [
    {
     "name": "stdout",
     "output_type": "stream",
     "text": [
      "Python version\n",
      "3.8.8 (default, Apr 13 2021, 15:08:03) [MSC v.1916 64 bit (AMD64)]\n",
      "Version info.\n",
      "sys.version_info(major=3, minor=8, micro=8, releaselevel='final', serial=0)\n"
     ]
    }
   ],
   "source": [
    "#      question 2\n",
    "print(\"Python version\")\n",
    "print (sys.version)\n",
    "print(\"Version info.\")\n",
    "print (sys.version_info)\n"
   ]
  },
  {
   "cell_type": "code",
   "execution_count": 15,
   "id": "c1b9f2e8",
   "metadata": {},
   "outputs": [
    {
     "name": "stdout",
     "output_type": "stream",
     "text": [
      "Current date and time : \n",
      "2021-10-24 16:08:41\n"
     ]
    }
   ],
   "source": [
    "#      question 3\n",
    "import datetime\n",
    "now = datetime.datetime.now()\n",
    "print (\"Current date and time : \")\n",
    "print (now.strftime(\"%Y-%m-%d %H:%M:%S\"))\n"
   ]
  },
  {
   "cell_type": "code",
   "execution_count": 30,
   "id": "105d2a92",
   "metadata": {},
   "outputs": [
    {
     "name": "stdout",
     "output_type": "stream",
     "text": [
      "Enter radius of circle?34\n",
      "radius of the circle is\n",
      "3632.152\n"
     ]
    }
   ],
   "source": [
    "#       question 4\n",
    "r = int(input (\"Enter radius of circle?\"));\n",
    "print(\"radius of the circle is\");\n",
    "a = 3.142 * r ** 2;\n",
    "print(a);\n"
   ]
  },
  {
   "cell_type": "code",
   "execution_count": 34,
   "id": "ae8352e7",
   "metadata": {},
   "outputs": [
    {
     "name": "stdout",
     "output_type": "stream",
     "text": [
      "enter first value2\n",
      "enter first value5\n",
      "7\n"
     ]
    }
   ],
   "source": [
    "#       question 5\n",
    "x = int(input(\"enter first value\"));\n",
    "y = int(input(\"enter first value\"));\n",
    "z = (x + y);\n",
    "print(z);"
   ]
  },
  {
   "cell_type": "code",
   "execution_count": 36,
   "id": "437cc0c7",
   "metadata": {},
   "outputs": [
    {
     "name": "stdout",
     "output_type": "stream",
     "text": [
      "Enter your first nameAdina\n",
      "Enter your first nameZara\n",
      "Adina Zara\n"
     ]
    }
   ],
   "source": [
    "#     question 6\n",
    "x = input(\"Enter your first name\");\n",
    "y = input(\"Enter your first name\");\n",
    "z = (x+\" \"+y);\n",
    "print(z);\n"
   ]
  },
  {
   "cell_type": "code",
   "execution_count": 41,
   "id": "e7590627",
   "metadata": {},
   "outputs": [
    {
     "name": "stdout",
     "output_type": "stream",
     "text": [
      "Enter your Physics marks45\n",
      "Enter your Chemistry marks56\n",
      "Enter your Biology marks67\n",
      "Enter your Maths marks78\n",
      "246\n",
      "61.5\n",
      "Grade B\n"
     ]
    }
   ],
   "source": [
    "#      questiion 7\n",
    "#        Marks sheet\n",
    "a = int(input(\"Enter your Physics marks\"));\n",
    "b = int(input(\"Enter your Chemistry marks\"));\n",
    "c = int(input(\"Enter your Biology marks\"));\n",
    "d = int(input(\"Enter your Maths marks\"));\n",
    "obtMarks = (a + b +  c + d);\n",
    "print(obtMarks);\n",
    "percent = obtMarks * 100 /400;\n",
    "print(percent);\n",
    "if percent <100 and percent >80:\n",
    "    print(\"Grade A-1\");\n",
    "elif percent <80 and percent >70:\n",
    "    print(\"Grade A\");\n",
    "elif percent <70 and percent >60:\n",
    "    print(\"Grade B\");\n",
    "elif percent <60 and percent >50:\n",
    "    print(\"Grade C\");\n",
    "elif percent <50 and percent >40:\n",
    "    print(\"Grade D\");\n",
    "elif percent <40 and percent >30:\n",
    "    print(\"You are Fail!!\");\n",
    "\n",
    "\n"
   ]
  },
  {
   "cell_type": "code",
   "execution_count": 47,
   "id": "faab0ccf",
   "metadata": {},
   "outputs": [
    {
     "name": "stdout",
     "output_type": "stream",
     "text": [
      "Enter number9\n",
      "odd\n"
     ]
    }
   ],
   "source": [
    "#      question 8\n",
    "x = int(input(\"Enter number\"));\n",
    "y = x % 2;\n",
    "if  y == 0:\n",
    "    print(\"even\");\n",
    "elif  y == 1: \n",
    "    print(\"odd\");"
   ]
  },
  {
   "cell_type": "code",
   "execution_count": 48,
   "id": "068cf0e5",
   "metadata": {},
   "outputs": [
    {
     "name": "stdout",
     "output_type": "stream",
     "text": [
      "Number of items in the list =  5\n"
     ]
    }
   ],
   "source": [
    "#       question 9\n",
    "ListName = [\"Ayesha\", \"Ali\", \"hamza\", 2, 3]\n",
    "print (\"Number of items in the list = \", len(ListName))"
   ]
  },
  {
   "cell_type": "code",
   "execution_count": 49,
   "id": "9204da0b",
   "metadata": {},
   "outputs": [
    {
     "name": "stdout",
     "output_type": "stream",
     "text": [
      "45\n"
     ]
    }
   ],
   "source": [
    "#        question 10  \n",
    "a = [0,1,2,3,4,5,6,7,8,9]\n",
    "b = sum(a)\n",
    "print (b);\n",
    "\n"
   ]
  },
  {
   "cell_type": "code",
   "execution_count": 52,
   "id": "ab9a8dd5",
   "metadata": {},
   "outputs": [
    {
     "name": "stdout",
     "output_type": "stream",
     "text": [
      "Largest element is: 99\n"
     ]
    }
   ],
   "source": [
    "#        question 11\n",
    "list1 = [10, 20, 4, 45, 99]\n",
    "print(\"Largest element is:\", max(list1));"
   ]
  },
  {
   "cell_type": "code",
   "execution_count": null,
   "id": "77cad9ec",
   "metadata": {},
   "outputs": [],
   "source": []
  }
 ],
 "metadata": {
  "kernelspec": {
   "display_name": "Python 3",
   "language": "python",
   "name": "python3"
  },
  "language_info": {
   "codemirror_mode": {
    "name": "ipython",
    "version": 3
   },
   "file_extension": ".py",
   "mimetype": "text/x-python",
   "name": "python",
   "nbconvert_exporter": "python",
   "pygments_lexer": "ipython3",
   "version": "3.8.8"
  }
 },
 "nbformat": 4,
 "nbformat_minor": 5
}
